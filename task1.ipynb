python import numpy as np
python date=np.random.randn(2,3)
python date
array([[-0.75155478, -1.0434318 , -0.18893613],
       [-0.37809165, -0.70415007,  0.09704716]])
python date+date
array([[-1.50310957, -2.0868636 , -0.37787227],
       [-0.75618329, -1.40830014,  0.19409432]])
python date.shape
(2, 3)
python date.dtype
dtype('float64')
python date2=[[1,2,3,4],[4,5,6,7]]
python import numpy as np arr2=np.array(date2)
python arr2
array([[1, 2, 3, 4],
       [4, 5, 6, 7]])
python arr2.ndim
---------------------------------------------------------------------------

NameError                                 Traceback (most recent call last)

<ipython-input-2-79662539c160> in <module>
----> 1 arr2.ndim


NameError: name 'arr2' is not defined
python import numpy as np
python np.zeros(10)
array([0., 0., 0., 0., 0., 0., 0., 0., 0., 0.])
python np.ones((3,2))
array([[1., 1.],
       [1., 1.],
       [1., 1.]])
python np.empty((2,3,2))
array([[[1.5e-322, 0.0e+000],
        [0.0e+000, 0.0e+000],
        [0.0e+000, 0.0e+000]],

       [[0.0e+000, 0.0e+000],
        [0.0e+000, 0.0e+000],
        [0.0e+000, 0.0e+000]]])
python np.arange(13)
array([ 0,  1,  2,  3,  4,  5,  6,  7,  8,  9, 10, 11, 12])
python np.eye(3)
array([[1., 0., 0.],
       [0., 1., 0.],
       [0., 0., 1.]])
python arr=np.arange(6)
python float_arr=arr.astype(np.float64)
python float_arr
array([0., 1., 2., 3., 4., 5.])
python arr=np.array([[1,2,3,4],[5,6,7,8]])
python arr
array([[1, 2, 3, 4],
       [5, 6, 7, 8]])
python arr*arr
array([[ 1,  4,  9, 16],
       [25, 36, 49, 64]])
python 1/arr
array([[1.        , 0.5       , 0.33333333, 0.25      ],
       [0.2       , 0.16666667, 0.14285714, 0.125     ]])
python arr2=np.arange(10)
python arr2
array([0, 1, 2, 3, 4, 5, 6, 7, 8, 9])
python arr2[5:8]
array([5, 6, 7])
python arr2[5:8]=16
python arr2
array([ 0,  1,  2,  3,  4, 16, 16, 16,  8,  9])
python arr2_slice=arr2[5:8]
python arr2_slice
array([16, 16, 16])
python arr2_slice[2]=123
数组切片的是一个视图，会影响到源数组，复制用.copy（）
python arr2
array([  0,   1,   2,   3,   4,  16,  16, 123,   8,   9])
python arr2d=np.array([[1,2,3],[4,5,6],[7,8,9]])
python arr2d[2]
array([7, 8, 9])
python arr2d[0,2]
3
等价于arr2d[0][2]
python arr3d=np.array([[[1,2,3],[4,5,6]],[[7,8,9],[10,11,12]]])
数组np.array不要忘了，三维有三层括号！
python arr3d
array([[[ 1,  2,  3],
        [ 4,  5,  6]],

       [[ 7,  8,  9],
        [10, 11, 12]]])
python print(arr3d)
[[[ 1  2  3]
  [ 4  5  6]]

 [[ 7  8  9]
  [10 11 12]]]
python arr3d[0]
array([[1, 2, 3],
       [4, 5, 6]])
python old_values=arr3d[0].copy()
python old_values=arr3d[0].copy()
python arr3d[0]=42
python arr3d
array([[[42, 42, 42],
        [42, 42, 42]],

       [[ 7,  8,  9],
        [10, 11, 12]]])
python arr3d[0]=old_values
python arr3d
array([[[42, 42, 42],
        [42, 42, 42]],

       [[ 7,  8,  9],
        [10, 11, 12]]])
python arr3d2=np.arange(12).reshape(2,2,3)
python arr3d2
array([[[ 0,  1,  2],
        [ 3,  4,  5]],

       [[ 6,  7,  8],
        [ 9, 10, 11]]])
python old_vs=arr3d2[0].copy()
python arr3d2[0]=33
python arr3d2
array([[[33, 33, 33],
        [33, 33, 33]],

       [[ 6,  7,  8],
        [ 9, 10, 11]]])
python arr3d2[0]=old_vs
python arr3d2
array([[[ 0,  1,  2],
        [ 3,  4,  5]],

       [[ 6,  7,  8],
        [ 9, 10, 11]]])
python arr3d2[1,0]
array([6, 7, 8])
等价于
x=arr3d2[1] x[0]
python arr2[1:6]
array([ 1,  2,  3,  4, 16])
python arr2d
array([[1, 2, 3],
       [4, 5, 6],
       [7, 8, 9]])
python arr2d[:2]
array([[1, 2, 3],
       [4, 5, 6]])
省略了列
python arr2d[:2,1:]
array([[2, 3],
       [5, 6]])
python arr2d[1,:2]
array([4, 5])
第二行的前两列，逗号前面是行后面是列，不含尾
python arr2d[:2,2]
array([3, 6])
python arr2d[:,0]
array([1, 4, 7])
python arr2d[:,:1]
array([[1],
       [4],
       [7]])
python arr2d[:2,1:]=0 arr2d
array([[1, 0, 0],
       [4, 0, 0],
       [7, 8, 9]])
可以直接对索引赋值
python names=np.array(['bob','joe','will','bob','will','joe','joe'])
python data=np.random.randn(7,4)
python data
array([[ 0.12838177, -1.32424795,  0.35028038, -1.34797655],
       [-1.96193865,  0.47143037, -0.80289263, -2.20680053],
       [-0.59607406,  1.63704912, -0.78253442,  0.0230805 ],
       [-1.4568763 ,  1.21584797,  0.26625006, -0.42151139],
       [ 1.17151865,  1.61443199,  0.82365818,  0.21914552],
       [ 1.0175674 ,  0.10672896,  1.56617048, -0.09471829],
       [ 1.33496408, -0.60664846, -0.26612304,  1.46980046]])
python names
array(['bob', 'joe', 'will', 'bob', 'will', 'joe', 'joe'], dtype='<U4')
python data[names=='bob',2:]
array([[ 0.35028038, -1.34797655],
       [ 0.26625006, -0.42151139]])
python names!='bob'
array([False,  True,  True, False,  True,  True,  True])
python data[~(names=='bob')]
array([[-1.96193865,  0.47143037, -0.80289263, -2.20680053],
       [-0.59607406,  1.63704912, -0.78253442,  0.0230805 ],
       [ 1.17151865,  1.61443199,  0.82365818,  0.21914552],
       [ 1.0175674 ,  0.10672896,  1.56617048, -0.09471829],
       [ 1.33496408, -0.60664846, -0.26612304,  1.46980046]])
~操作符用来反转
python cond=names=='bob'
python data[~cond]
array([[-1.96193865,  0.47143037, -0.80289263, -2.20680053],
       [-0.59607406,  1.63704912, -0.78253442,  0.0230805 ],
       [ 1.17151865,  1.61443199,  0.82365818,  0.21914552],
       [ 1.0175674 ,  0.10672896,  1.56617048, -0.09471829],
       [ 1.33496408, -0.60664846, -0.26612304,  1.46980046]])
python mask=(names=='bob')|(names=='will')
python data[mask]
array([[ 0.12838177, -1.32424795,  0.35028038, -1.34797655],
       [-0.59607406,  1.63704912, -0.78253442,  0.0230805 ],
       [-1.4568763 ,  1.21584797,  0.26625006, -0.42151139],
       [ 1.17151865,  1.61443199,  0.82365818,  0.21914552]])
&和 |或
python data[data<0]=0
python data
array([[0.12838177, 0.        , 0.35028038, 0.        ],
       [0.        , 0.47143037, 0.        , 0.        ],
       [0.        , 1.63704912, 0.        , 0.0230805 ],
       [0.        , 1.21584797, 0.26625006, 0.        ],
       [1.17151865, 1.61443199, 0.82365818, 0.21914552],
       [1.0175674 , 0.10672896, 1.56617048, 0.        ],
       [1.33496408, 0.        , 0.        , 1.46980046]])
python data[names!='joe']=7
python data
array([[7.        , 7.        , 7.        , 7.        ],
       [0.        , 0.47143037, 0.        , 0.        ],
       [7.        , 7.        , 7.        , 7.        ],
       [7.        , 7.        , 7.        , 7.        ],
       [7.        , 7.        , 7.        , 7.        ],
       [1.0175674 , 0.10672896, 1.56617048, 0.        ],
       [1.33496408, 0.        , 0.        , 1.46980046]])
python arr=np.empty((8,4))
python for i in range(8): arr[i]=i line1 : line2 缩进
python arr
array([[0., 0., 0., 0.],
       [1., 1., 1., 1.],
       [2., 2., 2., 2.],
       [3., 3., 3., 3.],
       [4., 4., 4., 4.],
       [5., 5., 5., 5.],
       [6., 6., 6., 6.],
       [7., 7., 7., 7.]])
python arr[[4,3,0,6]]
array([[4., 4., 4., 4.],
       [3., 3., 3., 3.],
       [0., 0., 0., 0.],
       [6., 6., 6., 6.]])
按特定的顺序取子集，双括号
python arr[[-3,-5,-7]]
array([[5., 5., 5., 5.],
       [3., 3., 3., 3.],
       [1., 1., 1., 1.]])
负数从末尾开始索引
python arr=np.arange(32).reshape(8,4)
python arr
array([[ 0,  1,  2,  3],
       [ 4,  5,  6,  7],
       [ 8,  9, 10, 11],
       [12, 13, 14, 15],
       [16, 17, 18, 19],
       [20, 21, 22, 23],
       [24, 25, 26, 27],
       [28, 29, 30, 31]])
python arr[[1,5,7,2],[0,3,1,2]]
array([ 4, 23, 29, 10])
一个大括号内索引的是对应行列上的元素（1,0）（5,3）（7,1）（2,2） 返回的是一维数组
python arr[[1,5,7,2]][:,[0,3,1,2]]
array([[ 4,  7,  5,  6],
       [20, 23, 21, 22],
       [28, 31, 29, 30],
       [ 8, 11,  9, 10]])
分开的两个大括号，索引的是矩阵的行列子集
python arr=np.arange(15).reshape(3,5)
python arr
array([[ 0,  1,  2,  3,  4],
       [ 5,  6,  7,  8,  9],
       [10, 11, 12, 13, 14]])
python arr.T
array([[ 0,  5, 10],
       [ 1,  6, 11],
       [ 2,  7, 12],
       [ 3,  8, 13],
       [ 4,  9, 14]])
python arr=np.random.randn(6,3)
python arr
array([[-0.16975903, -0.49806235, -1.1292489 ],
       [-0.657899  , -1.05339987, -1.81672783],
       [ 0.29809928,  0.09407156, -0.75796745],
       [-0.34427981,  0.14495605, -0.19748507],
       [-0.651955  ,  0.04519727,  0.36637302],
       [ 1.00464571,  1.6703593 ,  1.13142711]])
python np.dot(arr.T,arr)
array([[2.10339932, 2.40437125, 2.12678886],
       [2.40437125, 4.17972209, 4.28269625],
       [2.12678886, 4.28269625, 6.6035746 ]])
python arr=np.arange(16).reshape(2,2,4)
python arr
array([[[ 0,  1,  2,  3],
        [ 4,  5,  6,  7]],

       [[ 8,  9, 10, 11],
        [12, 13, 14, 15]]])
python arr.transpose(1,0,2)
array([[[ 0,  1,  2,  3],
        [ 8,  9, 10, 11]],

       [[ 4,  5,  6,  7],
        [12, 13, 14, 15]]])
arr.transpose()对轴进行转置，将0,1轴互换
python arr
array([[[ 0,  1,  2,  3],
        [ 4,  5,  6,  7]],

       [[ 8,  9, 10, 11],
        [12, 13, 14, 15]]])
python arr.swapaxes(1,2)
array([[[ 0,  4],
        [ 1,  5],
        [ 2,  6],
        [ 3,  7]],

       [[ 8, 12],
        [ 9, 13],
        [10, 14],
        [11, 15]]])
一对轴（1,2）互换
python import numpy as np
python arr=np.arange(10)
python arr
array([0, 1, 2, 3, 4, 5, 6, 7, 8, 9])
python np.sqrt(arr)
array([0.        , 1.        , 1.41421356, 1.73205081, 2.        ,
       2.23606798, 2.44948974, 2.64575131, 2.82842712, 3.        ])
python np.exp(arr)
array([1.00000000e+00, 2.71828183e+00, 7.38905610e+00, 2.00855369e+01,
       5.45981500e+01, 1.48413159e+02, 4.03428793e+02, 1.09663316e+03,
       2.98095799e+03, 8.10308393e+03])
python x=np.random.randn(8)
python y=np.random.randn(8)
python x
array([-0.08376703, -0.12252041, -0.71408023, -0.76529749, -0.11024724,
       -0.93521983,  1.68927422, -1.03275447])
python y
array([-0.82101841,  0.02887761,  1.13408279,  1.88056783,  1.54771202,
       -1.01052007,  2.38929143, -0.71657086])
python np.maximum(x,y)
array([-0.08376703,  0.02887761,  1.13408279,  1.88056783,  1.54771202,
       -0.93521983,  2.38929143, -0.71657086])
python arr=np.random.randn(7)*5
python arr
array([ 1.91488069, -0.53584836,  6.32254578,  1.21816493,  3.60976777,
       -8.0559749 ,  4.14046985])
python remainder,whole_part=np.modf(arr)
python remainder
array([ 0.91488069, -0.53584836,  0.32254578,  0.21816493,  0.60976777,
       -0.0559749 ,  0.14046985])
python whole_part
array([ 1., -0.,  6.,  1.,  3., -8.,  4.])
python np.sqrt(arr)
c:\users\administrator\appdata\local\programs\python\python37\lib\site-packages\ipykernel_launcher.py:1: RuntimeWarning: invalid value encountered in sqrt
  """Entry point for launching an IPython kernel.





array([1.38379214,        nan, 2.5144673 , 1.10370509, 1.89993889,
              nan, 2.03481445])
python np.sqrt(arr,arr)
c:\users\administrator\appdata\local\programs\python\python37\lib\site-packages\ipykernel_launcher.py:1: RuntimeWarning: invalid value encountered in sqrt
  """Entry point for launching an IPython kernel.





array([1.38379214,        nan, 2.5144673 , 1.10370509, 1.89993889,
              nan, 2.03481445])
python arr
array([1.38379214,        nan, 2.5144673 , 1.10370509, 1.89993889,
              nan, 2.03481445])
python points=np.arange(-5,5,0.01)
python xs,ys=np.meshgrid(points,points)
python xs
array([[-5.  , -4.99, -4.98, ...,  4.97,  4.98,  4.99],
       [-5.  , -4.99, -4.98, ...,  4.97,  4.98,  4.99],
       [-5.  , -4.99, -4.98, ...,  4.97,  4.98,  4.99],
       ...,
       [-5.  , -4.99, -4.98, ...,  4.97,  4.98,  4.99],
       [-5.  , -4.99, -4.98, ...,  4.97,  4.98,  4.99],
       [-5.  , -4.99, -4.98, ...,  4.97,  4.98,  4.99]])
python ys
array([[-5.  , -5.  , -5.  , ..., -5.  , -5.  , -5.  ],
       [-4.99, -4.99, -4.99, ..., -4.99, -4.99, -4.99],
       [-4.98, -4.98, -4.98, ..., -4.98, -4.98, -4.98],
       ...,
       [ 4.97,  4.97,  4.97, ...,  4.97,  4.97,  4.97],
       [ 4.98,  4.98,  4.98, ...,  4.98,  4.98,  4.98],
       [ 4.99,  4.99,  4.99, ...,  4.99,  4.99,  4.99]])
python z=np.sqrt(xs**2+ys**2)
python z
array([[7.07106781, 7.06400028, 7.05693985, ..., 7.04988652, 7.05693985,
        7.06400028],
       [7.06400028, 7.05692568, 7.04985815, ..., 7.04279774, 7.04985815,
        7.05692568],
       [7.05693985, 7.04985815, 7.04278354, ..., 7.03571603, 7.04278354,
        7.04985815],
       ...,
       [7.04988652, 7.04279774, 7.03571603, ..., 7.0286414 , 7.03571603,
        7.04279774],
       [7.05693985, 7.04985815, 7.04278354, ..., 7.03571603, 7.04278354,
        7.04985815],
       [7.06400028, 7.05692568, 7.04985815, ..., 7.04279774, 7.04985815,
        7.05692568]])
python xarr=np.array([1,3,5,7,9])
python yarr=np.array([2,4,6,8,10])
python cond=np.array([True,False,True,True,False])
python results=np.where(cond,xarr,yarr)
python results
array([ 1,  4,  5,  7, 10])
python arr=np.random.randn(4,4)
python arr
array([[ 1.17580529,  0.81829937,  0.16134824, -1.32804148],
       [-0.71611709,  0.26022114, -0.78456123,  0.67282513],
       [ 1.93827258, -0.71148455,  0.3030335 , -1.09972731],
       [-0.84936948, -0.04404705,  1.00591201,  2.01500482]])
python arr>0
array([[ True,  True,  True, False],
       [False,  True, False,  True],
       [ True, False,  True, False],
       [False, False,  True,  True]])
python np.where(arr>0,2,-2)
---------------------------------------------------------------------------

TypeError                                 Traceback (most recent call last)

<ipython-input-51-5c0204a1d347> in <module>
----> 1 np.where(arr>0,2,-2)


TypeError: 'tuple' object is not callable
python np.where(arr>0,2,arr)
---------------------------------------------------------------------------

TypeError                                 Traceback (most recent call last)

<ipython-input-43-6381551df5e8> in <module>
----> 1 np.where(arr>0,2,arr)


TypeError: 'tuple' object is not callable
python np.where(arr>0,2,arr)
---------------------------------------------------------------------------

TypeError                                 Traceback (most recent call last)

<ipython-input-45-6381551df5e8> in <module>
----> 1 np.where(arr>0,2,arr)


TypeError: 'tuple' object is not callable
python arr=np.random.randn(4,4)
python arr
array([[ 0.1979662 ,  1.42545637, -1.41288601,  0.51914119],
       [-0.03475109, -1.60819922,  0.79125451,  1.02909005],
       [-0.00590573,  1.07812649, -1.3901838 ,  0.31120566],
       [ 0.48764853,  0.22781812, -1.21661442,  0.29446478]])
python arr>0
array([[ True,  True, False,  True],
       [False, False,  True,  True],
       [False,  True, False,  True],
       [ True,  True, False,  True]])
python np.where(arr>0,2,arr)
---------------------------------------------------------------------------

TypeError                                 Traceback (most recent call last)

<ipython-input-49-6381551df5e8> in <module>
----> 1 np.where(arr>0,2,arr)


TypeError: 'tuple' object is not callable
python np.where(arr>0,2,-2)
---------------------------------------------------------------------------

TypeError                                 Traceback (most recent call last)

<ipython-input-50-5c0204a1d347> in <module>
----> 1 np.where(arr>0,2,-2)


TypeError: 'tuple' object is not callable
```python
```
