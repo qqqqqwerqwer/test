python import pandas as pd
python from pandas import Series,DataFrame
python obj=pd.Series([3,5,7,9])
python obj
0    3
1    5
2    7
3    9
dtype: int64
python obj.values
array([3, 5, 7, 9], dtype=int64)
python obj.index
RangeIndex(start=0, stop=4, step=1)
python obj2=pd.Series([3,5,7,9],['d','b','a','c'])
python obj2
d    3
b    5
a    7
c    9
dtype: int64
python obj2['a']
7
python obj2['b']=5
python obj2[['a','c','d']]
a    7
c    9
d    3
dtype: int64
双括号
python obj2*2
---------------------------------------------------------------------------

NameError                                 Traceback (most recent call last)

<ipython-input-1-a101fd1dd7cd> in <module>
----> 1 obj2*2


NameError: name 'obj2' is not defined
python import pandas as pd
python obj2=pd.Series([3,5,7,9])
python obj2*2
0     6
1    10
2    14
3    18
dtype: int64
python obj2[obj2>5]
2    7
3    9
dtype: int64
中括号
python 'b' in obj2
False
python sdata={'a':1,'b':2,'c':3,'d':4}
python obj3=pd.Series(sdata)
python obj3
a    1
b    2
c    3
d    4
dtype: int64
python states=['a','b','c','e']
python obj4=pd.Series(sdata,index=states)
python obj4
a    1.0
b    2.0
c    3.0
e    NaN
dtype: float64
python pd.isnull(obj4)
a    False
b    False
c    False
e     True
dtype: bool
python pd.notnull(obj4)
a     True
b     True
c     True
e    False
dtype: bool
python obj4.isnull()
a    False
b    False
c    False
e     True
dtype: bool
```python
```
